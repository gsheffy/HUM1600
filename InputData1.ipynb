{
  "nbformat": 4,
  "nbformat_minor": 0,
  "metadata": {
    "colab": {
      "provenance": [],
      "authorship_tag": "ABX9TyPyt15xal+emRexsoQ1klbu",
      "include_colab_link": true
    },
    "kernelspec": {
      "name": "python3",
      "display_name": "Python 3"
    },
    "language_info": {
      "name": "python"
    }
  },
  "cells": [
    {
      "cell_type": "markdown",
      "metadata": {
        "id": "view-in-github",
        "colab_type": "text"
      },
      "source": [
        "<a href=\"https://colab.research.google.com/github/gsheffy/HUM1600/blob/main/InputData1.ipynb\" target=\"_parent\"><img src=\"https://colab.research.google.com/assets/colab-badge.svg\" alt=\"Open In Colab\"/></a>"
      ]
    },
    {
      "cell_type": "code",
      "execution_count": null,
      "metadata": {
        "id": "5sf77wYh8yNs"
      },
      "outputs": [],
      "source": [
        "\"\"\"\n",
        "Grace Sheffield\n",
        "1/20/2024\n",
        "\n",
        "--Quantitative data refers to data that is expressed numerically. It can\n",
        "consist of either continuous numbers or discrete numbers. An example of\n",
        "a continuous number measurement would be height or weight (the number can fall\n",
        "anywhere on a scale.) An example of a discrete measurement would be the\n",
        "number of cars your family owns (can only consist of integers such as 1, 2, 3.)\n",
        "\n",
        "--Qualitative data refers to descriptive data that is not expressed using\n",
        "numeric values. It uses words alone. An example of this kind of data could be\n",
        "the color of your hair or clothing.\n",
        "\n",
        "--Casting refers to the process of changing and/or specificying the type\n",
        "of variable a piece of data functions as. In many cases, this process happens\n",
        "implicitly (automatically handled by Python,) but if you need to manually\n",
        "(explicitly) change the variable type, you use the formula: variable =\n",
        "cast_function(expression).\n",
        "\n",
        "--Precision refers to the total number of (significant) digits in a number,\n",
        "while scale refers to the number of digits after the decimal point. For\n",
        "example, the number 63.7984 has a precision of 6 and a scale of 4.\n",
        "\n",
        " \"\"\""
      ]
    },
    {
      "cell_type": "code",
      "source": [
        "#Problem 1\n",
        "\n",
        "print(\"Bob Smith\\nbob@smith.com\")"
      ],
      "metadata": {
        "colab": {
          "base_uri": "https://localhost:8080/"
        },
        "id": "waY7cUdO_eSM",
        "outputId": "76326982-c7f1-4144-e393-d6a165a8ea31"
      },
      "execution_count": null,
      "outputs": [
        {
          "output_type": "stream",
          "name": "stdout",
          "text": [
            "Bob Smith\n",
            "bob@smith.com\n"
          ]
        }
      ]
    },
    {
      "cell_type": "code",
      "source": [
        "#Problem 2\n",
        "\n",
        "x = 100\n",
        "y = 15\n",
        "print(x*y)\n",
        "print(type(x*y))\n",
        "print(x/y)\n",
        "print(type(x/y))\n",
        "\n"
      ],
      "metadata": {
        "colab": {
          "base_uri": "https://localhost:8080/"
        },
        "id": "RJbt6LevAyrH",
        "outputId": "8110a16b-9e1e-4c4d-bf50-26be47af6045"
      },
      "execution_count": null,
      "outputs": [
        {
          "output_type": "stream",
          "name": "stdout",
          "text": [
            "1500\n",
            "<class 'int'>\n",
            "6.666666666666667\n",
            "<class 'float'>\n"
          ]
        }
      ]
    },
    {
      "cell_type": "code",
      "source": [
        "#Problem 3\n",
        "\n",
        "x_str = input(\"Please enter integer: \")\n",
        "x = int(x_str)\n",
        "y_str = input(\"Please enter another integer: \")\n",
        "y = int(y_str)\n",
        "print(x*y)\n",
        "print(type(x*y))\n",
        "print(x/y)\n",
        "print(type(x/y))\n"
      ],
      "metadata": {
        "colab": {
          "base_uri": "https://localhost:8080/"
        },
        "id": "Vr9VaD1bBXJc",
        "outputId": "ae50830d-9def-4d6a-c2e1-85ac8ee312aa"
      },
      "execution_count": null,
      "outputs": [
        {
          "output_type": "stream",
          "name": "stdout",
          "text": [
            "Please enter integer: 2\n",
            "Please enter another integer: 5\n",
            "10\n",
            "<class 'int'>\n",
            "0.4\n",
            "<class 'float'>\n"
          ]
        }
      ]
    },
    {
      "cell_type": "markdown",
      "source": [
        "#Problem 4\n",
        "\n",
        "#What is the value of Row 2 - a or b?\n",
        "--True\n",
        "#What is the value of Row 4 - a and (a or b)?\n",
        "--False\n",
        "#What is the value of Row 3 - not a?\n",
        "--True\n",
        "\n"
      ],
      "metadata": {
        "id": "k7SI2BbxDe1W"
      }
    },
    {
      "cell_type": "code",
      "source": [
        "#Problem 5\n",
        "\n",
        "uofu = \"University of Utah\"\n",
        "print(uofu[14])\n",
        "print(uofu[8])\n",
        "print(uofu[4])\n",
        "print(uofu[6])\n",
        "\n",
        "print(uofu[14]+uofu[8]+uofu[4]+uofu[6])\n",
        "\n",
        "print(uofu[14]+uofu[8]+uofu[4]+uofu[6]+u'\\u0021')\n",
        "\n",
        "\n"
      ],
      "metadata": {
        "colab": {
          "base_uri": "https://localhost:8080/"
        },
        "id": "ovwLaDIaEZ4N",
        "outputId": "2c232c15-9a90-45a8-ba23-096fbf8dc994"
      },
      "execution_count": null,
      "outputs": [
        {
          "output_type": "stream",
          "name": "stdout",
          "text": [
            "U\n",
            "t\n",
            "e\n",
            "s\n",
            "Utes\n",
            "Utes!\n"
          ]
        }
      ]
    },
    {
      "cell_type": "code",
      "source": [
        "#Problem 6\n",
        "\n",
        "ham_let = \"To be, or not to be, that is the question: Whether 'tis nobler in the mind to suffer The slings and arrows of outrageous fortune, Or to take arms against a sea of troubles And by opposing end them.\"\n",
        "\n",
        "character_to_find = 'a '\n",
        "position = ham_let.index(character_to_find)\n",
        "\n",
        "print(position)\n",
        "\n",
        "\n",
        "rebel_thorn= (ham_let[154]+ham_let[2]+ham_let[8]+ham_let[4]+ham_let[3]+ham_let[4]+ham_let[59]+ham_let[51]+ham_let[27]+ham_let[2]+ham_let[12]+ham_let[22]+ham_let[1]+ham_let[8]+ham_let[10]+ham_let[196])\n",
        "\n",
        "character_to_find = '.'\n",
        "position = ham_let.index(character_to_find)\n",
        "\n",
        "print(position)\n",
        "\n",
        "\n",
        "print(rebel_thorn)\n",
        "\n",
        "\n",
        "\n",
        "\n",
        "\n",
        "\n",
        "\n",
        "\n"
      ],
      "metadata": {
        "colab": {
          "base_uri": "https://localhost:8080/"
        },
        "id": "M6jVFlMTIzME",
        "outputId": "2af388d7-2458-4d18-e89f-125e0b6d8972"
      },
      "execution_count": null,
      "outputs": [
        {
          "output_type": "stream",
          "name": "stdout",
          "text": [
            "154\n",
            "196\n",
            "a rebel's thorn.\n"
          ]
        }
      ]
    }
  ]
}