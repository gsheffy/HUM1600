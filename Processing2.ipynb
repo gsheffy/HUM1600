{
  "nbformat": 4,
  "nbformat_minor": 0,
  "metadata": {
    "colab": {
      "provenance": [],
      "authorship_tag": "ABX9TyN36bNUggPYpvJS83OnTpjE",
      "include_colab_link": true
    },
    "kernelspec": {
      "name": "python3",
      "display_name": "Python 3"
    },
    "language_info": {
      "name": "python"
    }
  },
  "cells": [
    {
      "cell_type": "markdown",
      "metadata": {
        "id": "view-in-github",
        "colab_type": "text"
      },
      "source": [
        "<a href=\"https://colab.research.google.com/github/gsheffy/HUM1600/blob/main/Processing2.ipynb\" target=\"_parent\"><img src=\"https://colab.research.google.com/assets/colab-badge.svg\" alt=\"Open In Colab\"/></a>"
      ]
    },
    {
      "cell_type": "code",
      "execution_count": null,
      "metadata": {
        "id": "oSxlMsU2Xbjn"
      },
      "outputs": [],
      "source": [
        "\"\"\"\n",
        "Grace Sheffield\n",
        "2/23/24\n",
        "\n",
        "-A built-in function is a predefined, built-in function in Python. For example,\n",
        "\"print()\" is a built-in function. In contrast, a user-defined function is not yet\n",
        "defined and is not built into Python, requiring the programmer to define it and\n",
        "adjust the details.\n",
        "\n",
        "-In short, a value-return function is a function in which a task is performed and a value\n",
        "(that you didn't previously enter)is outputted as a result. Using a void function, there is\n",
        "no \"return--\" everything is pre-entered.\n",
        "\n",
        "\"\"\""
      ]
    },
    {
      "cell_type": "code",
      "source": [
        "#Problem 1\n",
        "\n",
        "lst = [23, 56, 19, 52, 87, 88, 50, 34, 22, 61, 52, 43, 25, 76, 77, 94]\n",
        "\n",
        "num = len(lst)\n",
        "max = max(lst)\n",
        "min = min(lst)\n",
        "sum = sum(lst)\n",
        "\n",
        "print(\"Summary Report:\")\n",
        "print(\"**************************\")\n",
        "print(f\"Total numbers in the list: {num}\")\n",
        "print(f\"Maximum value in the list: {max}\")\n",
        "print(f\"Minimum value in the list: {min}\")\n",
        "print(f\"Total sum of all numbers: {sum}\")\n"
      ],
      "metadata": {
        "colab": {
          "base_uri": "https://localhost:8080/"
        },
        "id": "8Ql5HwwRyLlD",
        "outputId": "c78f7f85-8732-43a3-dc62-a9d92ad3ab83"
      },
      "execution_count": null,
      "outputs": [
        {
          "output_type": "stream",
          "name": "stdout",
          "text": [
            "Summary Report:\n",
            "**************************\n",
            "Total numbers in the list: 16\n",
            "Maximum value in the list: 94\n",
            "Minimum value in the list: 19\n",
            "Total sum of all numbers: 859\n"
          ]
        }
      ]
    },
    {
      "cell_type": "code",
      "source": [
        "#Problem 2\n",
        "\n",
        "def print_name(first_name, last_name):\n",
        "    full_name = first_name + ' ' + last_name\n",
        "    print(\"Full name:\", full_name)\n",
        "\n",
        "    print(\"Last name, First name:\", last_name + ', ' + first_name)\n",
        "\n",
        "    print(\"All Uppercase:\", full_name.upper())\n",
        "\n",
        "    print(\"Name with full space between each:\")\n",
        "    for char in full_name:\n",
        "        print(char, end=' ')\n",
        "\n",
        "print_name(\"Bob\", \"Smith\")"
      ],
      "metadata": {
        "colab": {
          "base_uri": "https://localhost:8080/"
        },
        "id": "KURBOAi6zRx_",
        "outputId": "dcd91bf5-63eb-4c8c-8366-e7c531f1c65c"
      },
      "execution_count": null,
      "outputs": [
        {
          "output_type": "stream",
          "name": "stdout",
          "text": [
            "Full name: Bob Smith\n",
            "Last name, First name: Smith, Bob\n",
            "All Uppercase: BOB SMITH\n",
            "Name with full space between each:\n",
            "B o b   S m i t h "
          ]
        }
      ]
    },
    {
      "cell_type": "code",
      "source": [
        "#Problem 3\n",
        "\n",
        "import random\n",
        "def dice():\n",
        "    return random.randint(1, 6)\n",
        "die = dice()\n",
        "print(\"Roll:\", die)\n",
        "\n",
        "die = dice()\n",
        "guess = int(input(\"Guess the number(between 1 and 6): \"))\n",
        "\n",
        "print(\"Roll:\", die)\n",
        "print(\"Your guess:\", guess)\n",
        "\n",
        "correct = dice()\n",
        "guess_count = 0\n",
        "max_guesses = 3\n",
        "\n",
        "while guess_count < max_guesses:\n",
        "    guess = int(input(\"Guess the number(between 1 and 6): \"))\n",
        "    guess_count += 1\n",
        "\n",
        "    if guess == correct:\n",
        "        print(\"Correct!\")\n",
        "        break\n",
        "    else:\n",
        "        print(\"Incorrect.\")\n",
        "\n",
        "if guess_count == max_guesses:\n",
        "    print(f\"No guesses left.\")"
      ],
      "metadata": {
        "colab": {
          "base_uri": "https://localhost:8080/"
        },
        "id": "7X1c5oWc0Vw9",
        "outputId": "679bd5e3-9294-42c2-ddc7-424ec9578d98"
      },
      "execution_count": null,
      "outputs": [
        {
          "output_type": "stream",
          "name": "stdout",
          "text": [
            "Roll: 4\n",
            "Guess the number(between 1 and 6): 1\n",
            "Roll: 6\n",
            "Your guess: 1\n",
            "Guess the number(between 1 and 6): 2\n",
            "Correct!\n"
          ]
        }
      ]
    }
  ]
}